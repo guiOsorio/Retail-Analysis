{
 "cells": [
  {
   "cell_type": "markdown",
   "id": "a6f2fbfc",
   "metadata": {},
   "source": [
    "This project consists of an exploratory data analysis of retail data extracted from the UCI Machine Learning Repository (https://archive.ics.uci.edu/ml/datasets/Online+Retail+II).\n",
    "\n",
    "Goals of this project:\n",
    "- Compare the evolution of sales per month by country for each year;\n",
    "- Discover where the most important customers come from using different KPIs;\n",
    "    - KPI I -> average revenue per sale\n",
    "    - KPI II -> total sales"
   ]
  },
  {
   "cell_type": "code",
   "execution_count": 1,
   "id": "2de57194",
   "metadata": {},
   "outputs": [],
   "source": [
    "import numpy as np\n",
    "import pandas as pd\n",
    "import matplotlib.pyplot as plt\n",
    "import seaborn as sns"
   ]
  },
  {
   "cell_type": "markdown",
   "id": "01d3101d",
   "metadata": {},
   "source": [
    "Load datasets to be used as two separate dataframes, one for each year."
   ]
  },
  {
   "cell_type": "code",
   "execution_count": 2,
   "id": "f3488483",
   "metadata": {},
   "outputs": [
    {
     "name": "stdout",
     "output_type": "stream",
     "text": [
      "  Invoice StockCode                          Description  Quantity  \\\n",
      "0  489434     85048  15CM CHRISTMAS GLASS BALL 20 LIGHTS        12   \n",
      "1  489434    79323P                   PINK CHERRY LIGHTS        12   \n",
      "2  489434    79323W                  WHITE CHERRY LIGHTS        12   \n",
      "3  489434     22041         RECORD FRAME 7\" SINGLE SIZE         48   \n",
      "4  489434     21232       STRAWBERRY CERAMIC TRINKET BOX        24   \n",
      "\n",
      "          InvoiceDate  Price  Customer ID         Country  \n",
      "0 2009-12-01 07:45:00   6.95      13085.0  United Kingdom  \n",
      "1 2009-12-01 07:45:00   6.75      13085.0  United Kingdom  \n",
      "2 2009-12-01 07:45:00   6.75      13085.0  United Kingdom  \n",
      "3 2009-12-01 07:45:00   2.10      13085.0  United Kingdom  \n",
      "4 2009-12-01 07:45:00   1.25      13085.0  United Kingdom  \n",
      "  Invoice StockCode                          Description  Quantity  \\\n",
      "0  536365    85123A   WHITE HANGING HEART T-LIGHT HOLDER         6   \n",
      "1  536365     71053                  WHITE METAL LANTERN         6   \n",
      "2  536365    84406B       CREAM CUPID HEARTS COAT HANGER         8   \n",
      "3  536365    84029G  KNITTED UNION FLAG HOT WATER BOTTLE         6   \n",
      "4  536365    84029E       RED WOOLLY HOTTIE WHITE HEART.         6   \n",
      "\n",
      "          InvoiceDate  Price  Customer ID         Country  \n",
      "0 2010-12-01 08:26:00   2.55      17850.0  United Kingdom  \n",
      "1 2010-12-01 08:26:00   3.39      17850.0  United Kingdom  \n",
      "2 2010-12-01 08:26:00   2.75      17850.0  United Kingdom  \n",
      "3 2010-12-01 08:26:00   3.39      17850.0  United Kingdom  \n",
      "4 2010-12-01 08:26:00   3.39      17850.0  United Kingdom  \n"
     ]
    }
   ],
   "source": [
    "data_0910 = pd.read_excel('online_retail_II.xlsx', sheet_name=0)\n",
    "data_1011 = pd.read_excel('online_retail_II.xlsx', sheet_name=1)\n",
    "print(data_0910.head())\n",
    "print(data_1011.head())"
   ]
  },
  {
   "cell_type": "markdown",
   "id": "e4464712",
   "metadata": {},
   "source": [
    "Check for NA values in both data frames."
   ]
  },
  {
   "cell_type": "code",
   "execution_count": 3,
   "id": "98468635",
   "metadata": {},
   "outputs": [
    {
     "name": "stdout",
     "output_type": "stream",
     "text": [
      "Invoice 09-10:  False\n",
      "Invoice 10-11:  False\n",
      "StockCode 09-10:  False\n",
      "StockCode 10-11:  False\n",
      "Description 09-10:  True\n",
      "Description 10-11:  True\n",
      "Quantity 09-10:  False\n",
      "Quantity 10-11:  False\n",
      "InvoiceDate 09-10:  False\n",
      "InvoiceDate 10-11:  False\n",
      "Price 09-10:  False\n",
      "Price 10-11:  False\n",
      "Customer ID 09-10:  True\n",
      "Customer ID 10-11:  True\n",
      "Country 09-10:  False\n",
      "Country 10-11:  False\n"
     ]
    }
   ],
   "source": [
    "print('Invoice 09-10: ', data_0910['Invoice'].isnull().values.any())\n",
    "print('Invoice 10-11: ', data_1011['Invoice'].isnull().values.any())\n",
    "print('StockCode 09-10: ', data_0910['StockCode'].isnull().values.any())\n",
    "print('StockCode 10-11: ', data_1011['StockCode'].isnull().values.any())\n",
    "print('Description 09-10: ', data_0910['Description'].isnull().values.any())\n",
    "print('Description 10-11: ', data_1011['Description'].isnull().values.any())\n",
    "print('Quantity 09-10: ', data_0910['Quantity'].isnull().values.any())\n",
    "print('Quantity 10-11: ', data_1011['Quantity'].isnull().values.any())\n",
    "print('InvoiceDate 09-10: ', data_0910['InvoiceDate'].isnull().values.any())\n",
    "print('InvoiceDate 10-11: ', data_1011['InvoiceDate'].isnull().values.any())\n",
    "print('Price 09-10: ', data_0910['Price'].isnull().values.any())\n",
    "print('Price 10-11: ', data_1011['Price'].isnull().values.any())\n",
    "print('Customer ID 09-10: ', data_0910['Customer ID'].isnull().values.any())\n",
    "print('Customer ID 10-11: ', data_1011['Customer ID'].isnull().values.any())\n",
    "print('Country 09-10: ', data_0910['Country'].isnull().values.any())\n",
    "print('Country 10-11: ', data_1011['Country'].isnull().values.any())\n",
    "\n",
    "# As seen by the printed results, both the description and the customer ID columns have NA values.\n",
    "# This is true for both dataframes."
   ]
  },
  {
   "cell_type": "markdown",
   "id": "c71fcaf6",
   "metadata": {},
   "source": [
    "Check percentage of rows with NA values compared to the total size of the dataframe"
   ]
  },
  {
   "cell_type": "code",
   "execution_count": 4,
   "id": "d2b9fd62",
   "metadata": {},
   "outputs": [
    {
     "name": "stdout",
     "output_type": "stream",
     "text": [
      "NA % (description 09-10):  0.56 %\n",
      "NA % (customer ID 09-10):  20.54 %\n",
      "NA % (description 10-11):  0.27 %\n",
      "NA % (customer ID 10-11):  24.93 %\n"
     ]
    }
   ],
   "source": [
    "# Percentage of rows from 09-10 data with an NA value for the description column\n",
    "print('NA % (description 09-10): ', round(100 * (len(data_0910[data_0910['Description'].isnull()]) / len(data_0910)), 2), '%')\n",
    "# Percentage of rows from 09-10 data with an NA value for the customer ID column\n",
    "print('NA % (customer ID 09-10): ', round(100 * (len(data_0910[data_0910['Customer ID'].isnull()]) / len(data_0910)), 2), '%')\n",
    "\n",
    "# Percentage of rows from 10-11 data with an NA value for the description column\n",
    "print('NA % (description 10-11): ', round(100 * (len(data_1011[data_1011['Description'].isnull()]) / len(data_1011)), 2), '%')\n",
    "# Percentage of rows from 10-11 data with an NA value for the customer ID column\n",
    "print('NA % (customer ID 10-11): ', round(100 * (len(data_1011[data_1011['Customer ID'].isnull()]) / len(data_1011)), 2), '%')"
   ]
  },
  {
   "cell_type": "markdown",
   "id": "78c088ef",
   "metadata": {},
   "source": [
    "The information provided in the description column won't be used for our analysis, so no changes need to be made to these values.\n",
    "On the other hand, the customer ID is necessary for determining where the most important customers come from. Additionally, the values on the customer ID column are null in a significant number of rows (over 20% of the data). Therefore, the approach taken in this analysis will be to transform the NA values in the customer ID column into 0. This way, when determining the most important customers, customer IDs of 0 can be ignored, while the rows in question will be preserved for the remainder of the analysis. "
   ]
  },
  {
   "cell_type": "markdown",
   "id": "5ca5ed90",
   "metadata": {},
   "source": [
    "Transform NA values in the customer ID columns to 0 and check if any NAs remain."
   ]
  },
  {
   "cell_type": "code",
   "execution_count": 5,
   "id": "6cb145f5",
   "metadata": {},
   "outputs": [
    {
     "name": "stdout",
     "output_type": "stream",
     "text": [
      "Customer ID 09-10:  False\n",
      "Customer ID 10-11:  False\n"
     ]
    }
   ],
   "source": [
    "# For 09-10 data\n",
    "data_0910['Customer ID'] = data_0910['Customer ID'].fillna(0)\n",
    "print('Customer ID 09-10: ', data_0910['Customer ID'].isnull().values.any())\n",
    "\n",
    "# For 10-11 data\n",
    "data_1011['Customer ID'] = data_1011['Customer ID'].fillna(0)\n",
    "print('Customer ID 10-11: ', data_1011['Customer ID'].isnull().values.any())\n",
    "\n",
    "# The false printed values show us that the conversion worked"
   ]
  },
  {
   "cell_type": "markdown",
   "id": "e1ec2e23",
   "metadata": {},
   "source": [
    "Create new column to represent the revenue by sale."
   ]
  },
  {
   "cell_type": "code",
   "execution_count": 6,
   "id": "1b1489de",
   "metadata": {},
   "outputs": [
    {
     "name": "stdout",
     "output_type": "stream",
     "text": [
      "  Invoice StockCode                          Description  Quantity  \\\n",
      "0  489434     85048  15CM CHRISTMAS GLASS BALL 20 LIGHTS        12   \n",
      "1  489434    79323P                   PINK CHERRY LIGHTS        12   \n",
      "2  489434    79323W                  WHITE CHERRY LIGHTS        12   \n",
      "3  489434     22041         RECORD FRAME 7\" SINGLE SIZE         48   \n",
      "4  489434     21232       STRAWBERRY CERAMIC TRINKET BOX        24   \n",
      "\n",
      "          InvoiceDate  Price  Customer ID         Country  Revenue  \n",
      "0 2009-12-01 07:45:00   6.95      13085.0  United Kingdom     83.4  \n",
      "1 2009-12-01 07:45:00   6.75      13085.0  United Kingdom     81.0  \n",
      "2 2009-12-01 07:45:00   6.75      13085.0  United Kingdom     81.0  \n",
      "3 2009-12-01 07:45:00   2.10      13085.0  United Kingdom    100.8  \n",
      "4 2009-12-01 07:45:00   1.25      13085.0  United Kingdom     30.0  \n",
      "  Invoice StockCode                          Description  Quantity  \\\n",
      "0  536365    85123A   WHITE HANGING HEART T-LIGHT HOLDER         6   \n",
      "1  536365     71053                  WHITE METAL LANTERN         6   \n",
      "2  536365    84406B       CREAM CUPID HEARTS COAT HANGER         8   \n",
      "3  536365    84029G  KNITTED UNION FLAG HOT WATER BOTTLE         6   \n",
      "4  536365    84029E       RED WOOLLY HOTTIE WHITE HEART.         6   \n",
      "\n",
      "          InvoiceDate  Price  Customer ID         Country  Revenue  \n",
      "0 2010-12-01 08:26:00   2.55      17850.0  United Kingdom    15.30  \n",
      "1 2010-12-01 08:26:00   3.39      17850.0  United Kingdom    20.34  \n",
      "2 2010-12-01 08:26:00   2.75      17850.0  United Kingdom    22.00  \n",
      "3 2010-12-01 08:26:00   3.39      17850.0  United Kingdom    20.34  \n",
      "4 2010-12-01 08:26:00   3.39      17850.0  United Kingdom    20.34  \n"
     ]
    }
   ],
   "source": [
    "data_0910['Revenue'] = data_0910.apply(lambda row: row.Quantity * row.Price, axis=1)\n",
    "data_1011['Revenue'] = data_1011.apply(lambda row: row.Quantity * row.Price, axis=1)\n",
    "print(data_0910.head())\n",
    "print(data_1011.head())"
   ]
  },
  {
   "cell_type": "markdown",
   "id": "51b0e726",
   "metadata": {},
   "source": [
    "Compare the evolution of sales per month by country for each year.\n",
    "Transform InvoiceDate column into month/year."
   ]
  },
  {
   "cell_type": "code",
   "execution_count": 7,
   "id": "fddd0cc3",
   "metadata": {},
   "outputs": [
    {
     "data": {
      "text/plain": [
       "0    12/2010\n",
       "1    12/2010\n",
       "2    12/2010\n",
       "3    12/2010\n",
       "4    12/2010\n",
       "Name: InvoiceDate, dtype: object"
      ]
     },
     "execution_count": 7,
     "metadata": {},
     "output_type": "execute_result"
    }
   ],
   "source": [
    "# Convert 09-10 data to only show month and year of invoice date\n",
    "data_0910['InvoiceDate'] = data_0910['InvoiceDate'].dt.strftime('%m/%Y')\n",
    "data_0910['InvoiceDate'].head()\n",
    "\n",
    "# Convert 10-11 data to only show month and year of invoice date\n",
    "data_1011['InvoiceDate'] = data_1011['InvoiceDate'].dt.strftime('%m/%Y')\n",
    "data_1011['InvoiceDate'].head()"
   ]
  },
  {
   "cell_type": "markdown",
   "id": "a86eb9eb",
   "metadata": {},
   "source": [
    "Group data by InvoiceDate and Country"
   ]
  },
  {
   "cell_type": "code",
   "execution_count": 8,
   "id": "8835b399",
   "metadata": {},
   "outputs": [],
   "source": [
    "# data_0910 = data_0910.groupby(by=['InvoiceDate', 'Country']).agg({'Revenue': ['count','sum','mean']})\n",
    "# user_purchases.columns = user_purchases.columns.droplevel(level=1)\n",
    "# user_purchases.reset_index(inplace=True)"
   ]
  },
  {
   "cell_type": "code",
   "execution_count": 9,
   "id": "3e94c797",
   "metadata": {},
   "outputs": [],
   "source": [
    "# data_0910['InvoiceDate']"
   ]
  },
  {
   "cell_type": "code",
   "execution_count": null,
   "id": "941339df",
   "metadata": {},
   "outputs": [],
   "source": []
  }
 ],
 "metadata": {
  "kernelspec": {
   "display_name": "Python 3 (ipykernel)",
   "language": "python",
   "name": "python3"
  },
  "language_info": {
   "codemirror_mode": {
    "name": "ipython",
    "version": 3
   },
   "file_extension": ".py",
   "mimetype": "text/x-python",
   "name": "python",
   "nbconvert_exporter": "python",
   "pygments_lexer": "ipython3",
   "version": "3.9.7"
  }
 },
 "nbformat": 4,
 "nbformat_minor": 5
}
